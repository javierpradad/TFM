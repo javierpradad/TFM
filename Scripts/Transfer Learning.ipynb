{
 "cells": [
  {
   "cell_type": "markdown",
   "id": "ab69fc02",
   "metadata": {},
   "source": [
    "# Transfer Learning + Fine-tuning\n"
   ]
  },
  {
   "cell_type": "markdown",
   "id": "cb31cb55",
   "metadata": {},
   "source": [
    "### Imports"
   ]
  },
  {
   "cell_type": "code",
   "execution_count": 8,
   "id": "168eddc4",
   "metadata": {},
   "outputs": [],
   "source": [
    "import os, glob, platform, random, json, math, copy, time\n",
    "from pathlib import Path\n",
    "import numpy as np\n",
    "import cv2\n",
    "import albumentations as A\n",
    "from albumentations.pytorch import ToTensorV2\n",
    "from contextlib import nullcontext\n",
    "\n",
    "import torch\n",
    "import torch.nn as nn\n",
    "import torch.optim as optim\n",
    "from torch.utils.data import Dataset, DataLoader, WeightedRandomSampler\n",
    "from torchvision import models\n",
    "from torch.optim.lr_scheduler import CosineAnnealingLR\n",
    "\n",
    "from tqdm.auto import tqdm\n",
    "from sklearn.utils import shuffle\n",
    "from sklearn.metrics import (\n",
    "    roc_auc_score, average_precision_score, f1_score,\n",
    "    confusion_matrix, roc_curve, precision_recall_curve\n",
    ")\n",
    "import matplotlib.pyplot as plt"
   ]
  },
  {
   "cell_type": "markdown",
   "id": "a52a95b8",
   "metadata": {},
   "source": [
    "### Config"
   ]
  },
  {
   "cell_type": "code",
   "execution_count": 9,
   "id": "96d0657c",
   "metadata": {},
   "outputs": [
    {
     "name": "stdout",
     "output_type": "stream",
     "text": [
      "Device: cuda\n"
     ]
    }
   ],
   "source": [
    "# Configuración del dataset\n",
    "DATA_ROOT   = \"E:/TFM/Dataset_una_clase\"   # {train,val,test}/{negative,positive}\n",
    "IMAGE_SIZE  = 224\n",
    "BATCH_SIZE  = 16\n",
    "SEED        = 42\n",
    "\n",
    "# 0 para evitar errores de multiprocessing en Windows\n",
    "NUM_WORKERS = 0 if platform.system().lower().startswith(\"win\") else 4\n",
    "\n",
    "# Entrenamiento\n",
    "EPOCHS          = 40\n",
    "WARMUP_EPOCHS   = 8\n",
    "LR_HEAD         = 1e-3\n",
    "LR_BACKBONE     = 1e-4\n",
    "WEIGHT_DECAY    = 1e-4\n",
    "PATIENCE        = 10\n",
    "OUT_DIR         = \"E:/TFM/modelos/Outputs_Transfer\"\n",
    "\n",
    "# Opciones\n",
    "USE_BALANCED_SAMPLER = True      # poner False para no balancear\n",
    "USE_FOCAL            = True      # usar FocalLoss (si False, usa BCEWithLogits)\n",
    "FOCAL_GAMMA          = 2.0\n",
    "FOCAL_ALPHA          = 0.25      # usado si AUTO_ALPHA=False\n",
    "AUTO_ALPHA           = True      # si True, alpha ≈ (1 - prevalencia_positiva)\n",
    "\n",
    "# Dispositivo\n",
    "device = torch.device(\"cuda\" if torch.cuda.is_available() else \"cpu\")\n",
    "print(\"Device:\", device)\n",
    "\n",
    "# Reproducibilidad\n",
    "def set_seed(seed=SEED):\n",
    "    random.seed(seed)\n",
    "    np.random.seed(seed)\n",
    "    torch.manual_seed(seed)\n",
    "    torch.cuda.manual_seed_all(seed)\n",
    "set_seed()\n"
   ]
  },
  {
   "cell_type": "markdown",
   "id": "a94c8234",
   "metadata": {},
   "source": [
    "### Transforms"
   ]
  },
  {
   "cell_type": "code",
   "execution_count": 10,
   "id": "22559462",
   "metadata": {},
   "outputs": [],
   "source": [
    "\n",
    "def _resize(img_size: int):\n",
    "    return A.Resize(height=img_size, width=img_size)\n",
    "\n",
    "def _random_resized_crop(img_size: int):\n",
    "    try:\n",
    "        return A.RandomResizedCrop(size=(img_size, img_size), scale=(0.9, 1.0), ratio=(0.9, 1.1), p=1.0)\n",
    "    except TypeError:\n",
    "        return A.RandomResizedCrop(height=img_size, width=img_size, scale=(0.9, 1.0), ratio=(0.9, 1.1), p=1.0)\n",
    "\n",
    "train_tf = A.Compose([\n",
    "    _random_resized_crop(IMAGE_SIZE),\n",
    "    A.Affine(\n",
    "        translate_percent={\"x\": (-0.05, 0.05), \"y\": (-0.05, 0.05)},\n",
    "        scale=(0.9, 1.1),\n",
    "        rotate=(-7, 7),\n",
    "        interpolation=cv2.INTER_LINEAR,\n",
    "        border_mode=cv2.BORDER_CONSTANT,\n",
    "        p=0.9\n",
    "    ),\n",
    "    A.CLAHE(clip_limit=2.0, tile_grid_size=(8, 8), p=1.0),\n",
    "    A.RandomBrightnessContrast(brightness_limit=0.10, contrast_limit=0.10, p=0.7),\n",
    "    A.GaussianBlur(blur_limit=(3, 3), p=0.2),\n",
    "    A.Normalize(mean=[0.5, 0.5, 0.5], std=[0.25, 0.25, 0.25]),\n",
    "    ToTensorV2(),\n",
    "])\n",
    "\n",
    "eval_tf = A.Compose([\n",
    "    _resize(IMAGE_SIZE),\n",
    "    A.Normalize(mean=[0.5, 0.5, 0.5], std=[0.25, 0.25, 0.25]),\n",
    "    ToTensorV2(),\n",
    "])\n"
   ]
  },
  {
   "cell_type": "markdown",
   "id": "2e038321",
   "metadata": {},
   "source": [
    "### Dataset"
   ]
  },
  {
   "cell_type": "code",
   "execution_count": 11,
   "id": "b74dc05f",
   "metadata": {},
   "outputs": [
    {
     "name": "stdout",
     "output_type": "stream",
     "text": [
      "Train: 278 | Val: 93 | Test: 93\n",
      "Batch shape: torch.Size([16, 3, 224, 224]) | Labels shape: torch.Size([16])\n",
      "Post-Normalize -> mean: -0.12879136204719543 std: 1.1381198167800903\n"
     ]
    }
   ],
   "source": [
    "\n",
    "# Dataset\n",
    "class ChestXrayDataset(Dataset):\n",
    "    def __init__(self, root_split_dir, transform=None):\n",
    "        self.root = root_split_dir\n",
    "        self.transform = transform\n",
    "        self.class_to_idx = {\"negative\": 0, \"positive\": 1}\n",
    "        self.samples = []\n",
    "        \n",
    "        exts = (\"*.png\", \"*.jpg\", \"*.jpeg\", \"*.bmp\", \"*.tif\", \"*.tiff\")\n",
    "        for cls in [\"negative\", \"positive\"]:\n",
    "            for ext in exts:\n",
    "                for f in glob.glob(os.path.join(self.root, cls, ext)):\n",
    "                    self.samples.append((f, self.class_to_idx[cls]))\n",
    "        \n",
    "        # filtrar ilegibles\n",
    "        valid, skipped = [], []\n",
    "        for path, label in self.samples:\n",
    "            img = cv2.imread(path, cv2.IMREAD_GRAYSCALE)\n",
    "            if img is None or img.size == 0:\n",
    "                skipped.append(path)\n",
    "            else:\n",
    "                valid.append((path, label))\n",
    "        if skipped:\n",
    "            print(f\"[WARN] {len(skipped)} imágenes ilegibles en {self.root}, se omiten.\")\n",
    "        self.samples = shuffle(valid, random_state=SEED)\n",
    "        if len(self.samples) == 0:\n",
    "            raise RuntimeError(f\"No hay imágenes válidas en {self.root}\")\n",
    "    \n",
    "    def __len__(self): \n",
    "        return len(self.samples)\n",
    "    \n",
    "    def __getitem__(self, idx):\n",
    "        path, label = self.samples[idx]\n",
    "        img = cv2.imread(path, cv2.IMREAD_GRAYSCALE)\n",
    "        img = cv2.cvtColor(img, cv2.COLOR_GRAY2RGB)\n",
    "        if self.transform: \n",
    "            img = self.transform(image=img)[\"image\"]\n",
    "        return img, torch.tensor(label, dtype=torch.long)\n",
    "\n",
    "def make_loaders():\n",
    "    train_ds = ChestXrayDataset(os.path.join(DATA_ROOT, \"train\"), transform=train_tf)\n",
    "    val_ds   = ChestXrayDataset(os.path.join(DATA_ROOT, \"val\"),   transform=eval_tf)\n",
    "    test_ds  = ChestXrayDataset(os.path.join(DATA_ROOT, \"test\"),  transform=eval_tf)\n",
    "\n",
    "    train_loader = DataLoader(train_ds, batch_size=BATCH_SIZE, shuffle=True,\n",
    "                              num_workers=NUM_WORKERS, pin_memory=False)\n",
    "    val_loader   = DataLoader(val_ds, batch_size=BATCH_SIZE, shuffle=False,\n",
    "                              num_workers=NUM_WORKERS, pin_memory=False)\n",
    "    test_loader  = DataLoader(test_ds, batch_size=BATCH_SIZE, shuffle=False,\n",
    "                              num_workers=NUM_WORKERS, pin_memory=False)\n",
    "    return train_loader, val_loader, test_loader, train_ds, val_ds, test_ds\n",
    "\n",
    "train_loader, val_loader, test_loader, train_ds, val_ds, test_ds = make_loaders()\n",
    "print(f\"Train: {len(train_ds)} | Val: {len(val_ds)} | Test: {len(test_ds)}\")\n",
    "imgs, labels = next(iter(train_loader))\n",
    "print(\"Batch shape:\", imgs.shape, \"| Labels shape:\", labels.shape)\n",
    "print(\"Post-Normalize -> mean:\", imgs.float().mean().item(), \"std:\", imgs.float().std().item())\n"
   ]
  },
  {
   "cell_type": "markdown",
   "id": "58f7df61",
   "metadata": {},
   "source": [
    "### Sampler + Alpha"
   ]
  },
  {
   "cell_type": "code",
   "execution_count": 12,
   "id": "27b29dff",
   "metadata": {},
   "outputs": [
    {
     "name": "stdout",
     "output_type": "stream",
     "text": [
      "Distribución original: {0: np.int64(139), 1: np.int64(139)}\n",
      "Prevalencia positivos: 0.5000 -> alpha (Focal): 0.500\n"
     ]
    }
   ],
   "source": [
    "if USE_BALANCED_SAMPLER:\n",
    "    labels_list = [lab for _, lab in train_ds.samples]\n",
    "    class_counts = np.bincount(labels_list, minlength=2)\n",
    "    class_weights = 1.0 / np.maximum(class_counts, 1)\n",
    "    sample_weights = [class_weights[lab] for lab in labels_list]\n",
    "    sampler = WeightedRandomSampler(sample_weights, num_samples=len(sample_weights), replacement=True)\n",
    "    train_loader_balanced = DataLoader(\n",
    "        train_ds, batch_size=BATCH_SIZE, sampler=sampler,\n",
    "        num_workers=NUM_WORKERS, pin_memory=False\n",
    "    )\n",
    "    print(\"Distribución original:\", dict(zip(range(len(class_counts)), class_counts)))\n",
    "    train_loader = train_loader_balanced\n",
    "\n",
    "# Alpha recomendado para Focal ≈ (1 - prevalencia_positiva)\n",
    "if AUTO_ALPHA:\n",
    "    labels_for_alpha = [lab for _, lab in train_ds.samples]\n",
    "    n_pos = sum(labels_for_alpha)\n",
    "    n_total = len(labels_for_alpha)\n",
    "    preval = n_pos / max(1, n_total)\n",
    "    FOCAL_ALPHA = float(max(0.01, min(0.99, 1.0 - preval)))\n",
    "    print(f\"Prevalencia positivos: {preval:.4f} -> alpha (Focal): {FOCAL_ALPHA:.3f}\")\n"
   ]
  },
  {
   "cell_type": "markdown",
   "id": "7044ea11",
   "metadata": {},
   "source": [
    "### Modelo y entrenamiento"
   ]
  },
  {
   "cell_type": "code",
   "execution_count": 13,
   "id": "6e29943b",
   "metadata": {},
   "outputs": [],
   "source": [
    "def make_grad_scaler(device):\n",
    "    if device.type != \"cuda\":\n",
    "        return None\n",
    "    if hasattr(torch, \"amp\"):\n",
    "        # Algunas versiones aceptan un primer arg posicional \"cuda\", otras ninguno.\n",
    "        for ctor in (lambda: torch.amp.GradScaler(\"cuda\"),\n",
    "                     lambda: torch.amp.GradScaler()):\n",
    "            try:\n",
    "                return ctor()\n",
    "            except TypeError:\n",
    "                continue\n",
    "    try:\n",
    "        return torch.cuda.amp.GradScaler()\n",
    "    except Exception:\n",
    "        return None\n",
    "    \n",
    "def autocast_ctx(device):\n",
    "    if device.type != \"cuda\":\n",
    "        return nullcontext()\n",
    "    if hasattr(torch, \"amp\"):\n",
    "        try:\n",
    "            return torch.amp.autocast(\"cuda\")\n",
    "        except TypeError:\n",
    "            return torch.amp.autocast(device_type=\"cuda\")\n",
    "        except Exception:\n",
    "            return nullcontext()\n",
    "    return torch.cuda.amp.autocast()"
   ]
  },
  {
   "cell_type": "code",
   "execution_count": 14,
   "id": "cc761629",
   "metadata": {},
   "outputs": [],
   "source": [
    "class FocalLoss(nn.Module):\n",
    "    def __init__(self, gamma=2.0, alpha=0.25, reduction='mean'):\n",
    "        super().__init__()\n",
    "        self.gamma = gamma\n",
    "        self.alpha = alpha\n",
    "        self.reduction = reduction\n",
    "        self.bce = nn.BCEWithLogitsLoss(reduction='none')\n",
    "    def forward(self, logits, targets):\n",
    "        bce = self.bce(logits, targets)\n",
    "        probs = torch.sigmoid(logits)\n",
    "        pt = probs*targets + (1-probs)*(1-targets)\n",
    "        loss = (self.alpha*(1-pt)**self.gamma)*bce\n",
    "        if self.reduction == 'mean':\n",
    "            return loss.mean()\n",
    "        if self.reduction == 'sum':\n",
    "            return loss.sum()\n",
    "        return loss\n",
    "\n",
    "def build_model(pretrained=True):\n",
    "    try:\n",
    "        weights = models.ResNet50_Weights.IMAGENET1K_V2 if pretrained else None\n",
    "        model = models.resnet50(weights=weights)\n",
    "    except Exception:\n",
    "        model = models.resnet50(pretrained=pretrained)\n",
    "    in_features = model.fc.in_features\n",
    "    model.fc = nn.Linear(in_features, 1)  # binario (1 logit)\n",
    "    return model\n",
    "\n",
    "@torch.no_grad()\n",
    "def evaluate(model, loader, device, threshold=0.5):\n",
    "    model.eval()\n",
    "    all_logits, all_targets = [], []\n",
    "    correct, total = 0, 0\n",
    "    for x, y in loader:\n",
    "        x = x.to(device)\n",
    "        y = y.float().unsqueeze(1).to(device)\n",
    "        logits = model(x)\n",
    "        probs = torch.sigmoid(logits)\n",
    "        preds = (probs >= threshold).float()\n",
    "        correct += (preds == y).sum().item()\n",
    "        total += y.numel()\n",
    "        all_logits.append(logits.cpu().numpy())\n",
    "        all_targets.append(y.cpu().numpy())\n",
    "    acc = correct/total if total>0 else 0.0\n",
    "    logits = np.concatenate(all_logits, axis=0)\n",
    "    targets = np.concatenate(all_targets, axis=0)\n",
    "    probs = 1/(1+np.exp(-logits))\n",
    "    metrics = {\"acc\": acc}\n",
    "    try:\n",
    "        metrics[\"roc_auc\"] = float(roc_auc_score(targets, probs))\n",
    "        metrics[\"pr_auc\"]  = float(average_precision_score(targets, probs))\n",
    "        preds05 = (probs >= 0.5).astype(np.int64)\n",
    "        metrics[\"f1\"] = float(f1_score(targets, preds05))\n",
    "    except Exception:\n",
    "        pass\n",
    "    # sensibilidad @ 95% especificidad\n",
    "    ts = np.linspace(0,1,101)\n",
    "    best_sens = None\n",
    "    for t in ts:\n",
    "        preds = (probs >= t).astype(np.int64)\n",
    "        tn = np.sum((preds==0) & (targets==0))\n",
    "        fp = np.sum((preds==1) & (targets==0))\n",
    "        tp = np.sum((preds==1) & (targets==1))\n",
    "        fn = np.sum((preds==0) & (targets==1))\n",
    "        spec = tn/(tn+fp) if (tn+fp)>0 else 0.0\n",
    "        sens = tp/(tp+fn) if (tp+fn)>0 else 0.0\n",
    "        if spec >= 0.95:\n",
    "            best_sens = sens if (best_sens is None or sens>best_sens) else best_sens\n",
    "    if best_sens is not None:\n",
    "        metrics[\"sens_at_95spec\"] = float(best_sens)\n",
    "    return metrics\n"
   ]
  },
  {
   "cell_type": "code",
   "execution_count": 15,
   "id": "275873c4",
   "metadata": {},
   "outputs": [],
   "source": [
    "def train(\n",
    "    train_loader, val_loader, test_loader,\n",
    "    epochs, warmup_epochs,\n",
    "    lr_head, lr_backbone,\n",
    "    weight_decay,\n",
    "    use_focal, gamma, alpha,\n",
    "    patience, out_dir,\n",
    "    device=torch.device(\"cuda\" if torch.cuda.is_available() else \"cpu\")\n",
    "):\n",
    "    os.makedirs(out_dir, exist_ok=True)\n",
    "    model = build_model(pretrained=True).to(device)\n",
    "\n",
    "    # congelar backbone\n",
    "    for name, p in model.named_parameters():\n",
    "        if not name.startswith(\"fc\"):\n",
    "            p.requires_grad = False\n",
    "    params_head = [p for p in model.parameters() if p.requires_grad]\n",
    "    opt = optim.AdamW(params_head, lr=lr_head, weight_decay=weight_decay)\n",
    "    sch = CosineAnnealingLR(opt, T_max=warmup_epochs)\n",
    "    criterion = FocalLoss(gamma=gamma, alpha=alpha) if use_focal else nn.BCEWithLogitsLoss()\n",
    "\n",
    "    # --- AMP compatible ---\n",
    "    scaler = make_grad_scaler(device)\n",
    "\n",
    "    best_metric, best_state, epochs_no_improve = -1, None, 0\n",
    "\n",
    "    # ---------- Warmup ----------\n",
    "    for ep in range(warmup_epochs):\n",
    "        model.train()\n",
    "        losses = []\n",
    "        for x, y in tqdm(train_loader, desc=f\"Warmup {ep+1}/{warmup_epochs}\"):\n",
    "            x = x.to(device); y = y.float().unsqueeze(1).to(device)\n",
    "            opt.zero_grad(set_to_none=True)\n",
    "            if scaler:\n",
    "                with autocast_ctx(device):\n",
    "                    logits = model(x)\n",
    "                    loss = criterion(logits, y)\n",
    "                scaler.scale(loss).backward()\n",
    "                scaler.step(opt); scaler.update()\n",
    "            else:\n",
    "                logits = model(x); loss = criterion(logits, y)\n",
    "                loss.backward(); opt.step()\n",
    "            losses.append(loss.item())\n",
    "        sch.step()\n",
    "        val_metrics = evaluate(model, val_loader, device)\n",
    "        metric = val_metrics.get(\"pr_auc\", val_metrics.get(\"roc_auc\", val_metrics.get(\"acc\", 0.0)))\n",
    "        print(f\"loss={np.mean(losses):.4f} | val:\", val_metrics)\n",
    "        if metric > best_metric:\n",
    "            best_metric, epochs_no_improve = metric, 0\n",
    "            best_state = copy.deepcopy(model.state_dict())\n",
    "            torch.save(best_state, os.path.join(out_dir, \"best_warmup.pt\"))\n",
    "        else:\n",
    "            epochs_no_improve += 1\n",
    "        if epochs_no_improve >= patience:\n",
    "            print(\"Early stopping (warmup)\"); break\n",
    "\n",
    "    # ---------- Fine-tune ----------\n",
    "    for p in model.parameters(): p.requires_grad = True\n",
    "    opt = optim.AdamW(model.parameters(), lr=lr_backbone, weight_decay=weight_decay)\n",
    "    sch = CosineAnnealingLR(opt, T_max=max(1, epochs - warmup_epochs))\n",
    "    epochs_no_improve = 0  # reinicia paciencia\n",
    "\n",
    "    for ep in range(warmup_epochs, epochs):\n",
    "        model.train()\n",
    "        losses = []\n",
    "        for x, y in tqdm(train_loader, desc=f\"Fine-tune {ep+1}/{epochs}\"):\n",
    "            x = x.to(device); y = y.float().unsqueeze(1).to(device)\n",
    "            opt.zero_grad(set_to_none=True)\n",
    "            if scaler:\n",
    "                with autocast_ctx(device):\n",
    "                    logits = model(x)\n",
    "                    loss = criterion(logits, y)\n",
    "                scaler.scale(loss).backward()\n",
    "                scaler.step(opt); scaler.update()\n",
    "            else:\n",
    "                logits = model(x); loss = criterion(logits, y)\n",
    "                loss.backward(); opt.step()\n",
    "            losses.append(loss.item())\n",
    "        sch.step()\n",
    "        val_metrics = evaluate(model, val_loader, device)\n",
    "        metric = val_metrics.get(\"pr_auc\", val_metrics.get(\"roc_auc\", val_metrics.get(\"acc\", 0.0)))\n",
    "        print(f\"loss={np.mean(losses):.4f} | val:\", val_metrics)\n",
    "        if metric > best_metric:\n",
    "            best_metric, epochs_no_improve = metric, 0\n",
    "            best_state = copy.deepcopy(model.state_dict())\n",
    "            torch.save(best_state, os.path.join(out_dir, \"best_model.pt\"))\n",
    "        else:\n",
    "            epochs_no_improve += 1\n",
    "        if epochs_no_improve >= patience:\n",
    "            print(\"Early stopping (fine-tune)\"); break\n",
    "\n",
    "    if best_state is not None:\n",
    "        model.load_state_dict(best_state)\n",
    "    test_metrics = evaluate(model, test_loader, device)\n",
    "    with open(os.path.join(out_dir, \"test_metrics.json\"), \"w\") as f:\n",
    "        json.dump(test_metrics, f, indent=2)\n",
    "    print(\"=== Test ===\", test_metrics)\n",
    "    return model, test_metrics"
   ]
  },
  {
   "cell_type": "code",
   "execution_count": 16,
   "id": "1e47c88b",
   "metadata": {},
   "outputs": [
    {
     "name": "stderr",
     "output_type": "stream",
     "text": [
      "Warmup 1/8: 100%|██████████| 18/18 [00:14<00:00,  1.27it/s]\n"
     ]
    },
    {
     "name": "stdout",
     "output_type": "stream",
     "text": [
      "loss=0.0860 | val: {'acc': 0.4946236559139785, 'roc_auc': 0.6308973172987974, 'pr_auc': 0.6444923853550867, 'f1': 0.0, 'sens_at_95spec': 0.1276595744680851}\n"
     ]
    },
    {
     "name": "stderr",
     "output_type": "stream",
     "text": [
      "Warmup 2/8: 100%|██████████| 18/18 [00:14<00:00,  1.26it/s]\n"
     ]
    },
    {
     "name": "stdout",
     "output_type": "stream",
     "text": [
      "loss=0.0825 | val: {'acc': 0.5053763440860215, 'roc_auc': 0.5370027752081407, 'pr_auc': 0.544171955155764, 'f1': 0.041666666666666664, 'sens_at_95spec': 0.0425531914893617}\n"
     ]
    },
    {
     "name": "stderr",
     "output_type": "stream",
     "text": [
      "Warmup 3/8: 100%|██████████| 18/18 [00:14<00:00,  1.24it/s]\n"
     ]
    },
    {
     "name": "stdout",
     "output_type": "stream",
     "text": [
      "loss=0.0825 | val: {'acc': 0.5268817204301075, 'roc_auc': 0.6308973172987974, 'pr_auc': 0.6133462967730688, 'f1': 0.18518518518518517, 'sens_at_95spec': 0.10638297872340426}\n"
     ]
    },
    {
     "name": "stderr",
     "output_type": "stream",
     "text": [
      "Warmup 4/8: 100%|██████████| 18/18 [00:14<00:00,  1.27it/s]\n"
     ]
    },
    {
     "name": "stdout",
     "output_type": "stream",
     "text": [
      "loss=0.0796 | val: {'acc': 0.5698924731182796, 'roc_auc': 0.7118408880666051, 'pr_auc': 0.7137364221937319, 'f1': 0.4594594594594595, 'sens_at_95spec': 0.2553191489361702}\n"
     ]
    },
    {
     "name": "stderr",
     "output_type": "stream",
     "text": [
      "Warmup 5/8: 100%|██████████| 18/18 [00:13<00:00,  1.36it/s]\n"
     ]
    },
    {
     "name": "stdout",
     "output_type": "stream",
     "text": [
      "loss=0.0768 | val: {'acc': 0.5806451612903226, 'roc_auc': 0.7608695652173912, 'pr_auc': 0.7553228157775324, 'f1': 0.36065573770491804, 'sens_at_95spec': 0.2127659574468085}\n"
     ]
    },
    {
     "name": "stderr",
     "output_type": "stream",
     "text": [
      "Warmup 6/8: 100%|██████████| 18/18 [00:13<00:00,  1.29it/s]\n"
     ]
    },
    {
     "name": "stdout",
     "output_type": "stream",
     "text": [
      "loss=0.0736 | val: {'acc': 0.6451612903225806, 'roc_auc': 0.7733580018501387, 'pr_auc': 0.7689169264199296, 'f1': 0.5217391304347826, 'sens_at_95spec': 0.2127659574468085}\n"
     ]
    },
    {
     "name": "stderr",
     "output_type": "stream",
     "text": [
      "Warmup 7/8: 100%|██████████| 18/18 [00:13<00:00,  1.32it/s]\n"
     ]
    },
    {
     "name": "stdout",
     "output_type": "stream",
     "text": [
      "loss=0.0762 | val: {'acc': 0.6236559139784946, 'roc_auc': 0.7622571692876966, 'pr_auc': 0.7757750719996738, 'f1': 0.4444444444444444, 'sens_at_95spec': 0.2978723404255319}\n"
     ]
    },
    {
     "name": "stderr",
     "output_type": "stream",
     "text": [
      "Warmup 8/8: 100%|██████████| 18/18 [00:14<00:00,  1.28it/s]\n"
     ]
    },
    {
     "name": "stdout",
     "output_type": "stream",
     "text": [
      "loss=0.0761 | val: {'acc': 0.5913978494623656, 'roc_auc': 0.7682701202590194, 'pr_auc': 0.7677959039990546, 'f1': 0.36666666666666664, 'sens_at_95spec': 0.23404255319148937}\n"
     ]
    },
    {
     "name": "stderr",
     "output_type": "stream",
     "text": [
      "Fine-tune 9/40: 100%|██████████| 18/18 [00:15<00:00,  1.13it/s]\n"
     ]
    },
    {
     "name": "stdout",
     "output_type": "stream",
     "text": [
      "loss=0.0733 | val: {'acc': 0.6451612903225806, 'roc_auc': 0.7617946345975948, 'pr_auc': 0.7756829467778371, 'f1': 0.56, 'sens_at_95spec': 0.2765957446808511}\n"
     ]
    },
    {
     "name": "stderr",
     "output_type": "stream",
     "text": [
      "Fine-tune 10/40: 100%|██████████| 18/18 [00:15<00:00,  1.20it/s]\n"
     ]
    },
    {
     "name": "stdout",
     "output_type": "stream",
     "text": [
      "loss=0.0639 | val: {'acc': 0.7634408602150538, 'roc_auc': 0.849213691026827, 'pr_auc': 0.8588905975416848, 'f1': 0.7105263157894737, 'sens_at_95spec': 0.6170212765957447}\n"
     ]
    },
    {
     "name": "stderr",
     "output_type": "stream",
     "text": [
      "Fine-tune 11/40: 100%|██████████| 18/18 [00:15<00:00,  1.20it/s]\n"
     ]
    },
    {
     "name": "stdout",
     "output_type": "stream",
     "text": [
      "loss=0.0540 | val: {'acc': 0.6236559139784946, 'roc_auc': 0.8242368177613321, 'pr_auc': 0.8234120203879738, 'f1': 0.4444444444444444, 'sens_at_95spec': 0.40425531914893614}\n"
     ]
    },
    {
     "name": "stderr",
     "output_type": "stream",
     "text": [
      "Fine-tune 12/40: 100%|██████████| 18/18 [00:16<00:00,  1.09it/s]\n"
     ]
    },
    {
     "name": "stdout",
     "output_type": "stream",
     "text": [
      "loss=0.0487 | val: {'acc': 0.7096774193548387, 'roc_auc': 0.837650323774283, 'pr_auc': 0.8639403324940198, 'f1': 0.6197183098591549, 'sens_at_95spec': 0.48936170212765956}\n"
     ]
    },
    {
     "name": "stderr",
     "output_type": "stream",
     "text": [
      "Fine-tune 13/40: 100%|██████████| 18/18 [00:14<00:00,  1.22it/s]\n"
     ]
    },
    {
     "name": "stdout",
     "output_type": "stream",
     "text": [
      "loss=0.0424 | val: {'acc': 0.7204301075268817, 'roc_auc': 0.8145235892691952, 'pr_auc': 0.7798699090236634, 'f1': 0.6829268292682927, 'sens_at_95spec': 0.19148936170212766}\n"
     ]
    },
    {
     "name": "stderr",
     "output_type": "stream",
     "text": [
      "Fine-tune 14/40: 100%|██████████| 18/18 [00:15<00:00,  1.14it/s]\n"
     ]
    },
    {
     "name": "stdout",
     "output_type": "stream",
     "text": [
      "loss=0.0399 | val: {'acc': 0.7204301075268817, 'roc_auc': 0.8274745605920444, 'pr_auc': 0.8509628175624974, 'f1': 0.6285714285714286, 'sens_at_95spec': 0.5531914893617021}\n"
     ]
    },
    {
     "name": "stderr",
     "output_type": "stream",
     "text": [
      "Fine-tune 15/40: 100%|██████████| 18/18 [00:15<00:00,  1.13it/s]\n"
     ]
    },
    {
     "name": "stdout",
     "output_type": "stream",
     "text": [
      "loss=0.0363 | val: {'acc': 0.7204301075268817, 'roc_auc': 0.8006475485661424, 'pr_auc': 0.8048456974670294, 'f1': 0.6976744186046512, 'sens_at_95spec': 0.2765957446808511}\n"
     ]
    },
    {
     "name": "stderr",
     "output_type": "stream",
     "text": [
      "Fine-tune 16/40: 100%|██████████| 18/18 [00:14<00:00,  1.22it/s]\n"
     ]
    },
    {
     "name": "stdout",
     "output_type": "stream",
     "text": [
      "loss=0.0270 | val: {'acc': 0.7956989247311828, 'roc_auc': 0.8820536540240519, 'pr_auc': 0.9015573833206965, 'f1': 0.7816091954022989, 'sens_at_95spec': 0.5319148936170213}\n"
     ]
    },
    {
     "name": "stderr",
     "output_type": "stream",
     "text": [
      "Fine-tune 17/40: 100%|██████████| 18/18 [00:14<00:00,  1.21it/s]\n"
     ]
    },
    {
     "name": "stdout",
     "output_type": "stream",
     "text": [
      "loss=0.0244 | val: {'acc': 0.6989247311827957, 'roc_auc': 0.8825161887141536, 'pr_auc': 0.8927605705895842, 'f1': 0.5882352941176471, 'sens_at_95spec': 0.5106382978723404}\n"
     ]
    },
    {
     "name": "stderr",
     "output_type": "stream",
     "text": [
      "Fine-tune 18/40: 100%|██████████| 18/18 [00:15<00:00,  1.17it/s]\n"
     ]
    },
    {
     "name": "stdout",
     "output_type": "stream",
     "text": [
      "loss=0.0250 | val: {'acc': 0.7096774193548387, 'roc_auc': 0.8219241443108234, 'pr_auc': 0.8143718485379033, 'f1': 0.6582278481012658, 'sens_at_95spec': 0.2127659574468085}\n"
     ]
    },
    {
     "name": "stderr",
     "output_type": "stream",
     "text": [
      "Fine-tune 19/40: 100%|██████████| 18/18 [00:15<00:00,  1.18it/s]\n"
     ]
    },
    {
     "name": "stdout",
     "output_type": "stream",
     "text": [
      "loss=0.0207 | val: {'acc': 0.7526881720430108, 'roc_auc': 0.8256244218316373, 'pr_auc': 0.7831347059406056, 'f1': 0.7228915662650602, 'sens_at_95spec': 0.2127659574468085}\n"
     ]
    },
    {
     "name": "stderr",
     "output_type": "stream",
     "text": [
      "Fine-tune 20/40: 100%|██████████| 18/18 [00:15<00:00,  1.15it/s]\n"
     ]
    },
    {
     "name": "stdout",
     "output_type": "stream",
     "text": [
      "loss=0.0160 | val: {'acc': 0.6666666666666666, 'roc_auc': 0.8334875115633673, 'pr_auc': 0.8063600764404384, 'f1': 0.5753424657534246, 'sens_at_95spec': 0.2765957446808511}\n"
     ]
    },
    {
     "name": "stderr",
     "output_type": "stream",
     "text": [
      "Fine-tune 21/40: 100%|██████████| 18/18 [00:14<00:00,  1.21it/s]\n"
     ]
    },
    {
     "name": "stdout",
     "output_type": "stream",
     "text": [
      "loss=0.0139 | val: {'acc': 0.6559139784946236, 'roc_auc': 0.8501387604070306, 'pr_auc': 0.80618418944553, 'f1': 0.5428571428571428, 'sens_at_95spec': 0.3404255319148936}\n"
     ]
    },
    {
     "name": "stderr",
     "output_type": "stream",
     "text": [
      "Fine-tune 22/40: 100%|██████████| 18/18 [00:15<00:00,  1.17it/s]\n"
     ]
    },
    {
     "name": "stdout",
     "output_type": "stream",
     "text": [
      "loss=0.0093 | val: {'acc': 0.7096774193548387, 'roc_auc': 0.870027752081406, 'pr_auc': 0.8733419825858878, 'f1': 0.6301369863013698, 'sens_at_95spec': 0.46808510638297873}\n"
     ]
    },
    {
     "name": "stderr",
     "output_type": "stream",
     "text": [
      "Fine-tune 23/40: 100%|██████████| 18/18 [00:15<00:00,  1.18it/s]\n"
     ]
    },
    {
     "name": "stdout",
     "output_type": "stream",
     "text": [
      "loss=0.0078 | val: {'acc': 0.7204301075268817, 'roc_auc': 0.8741905642923219, 'pr_auc': 0.846364529762218, 'f1': 0.6666666666666666, 'sens_at_95spec': 0.3829787234042553}\n"
     ]
    },
    {
     "name": "stderr",
     "output_type": "stream",
     "text": [
      "Fine-tune 24/40: 100%|██████████| 18/18 [00:16<00:00,  1.10it/s]\n"
     ]
    },
    {
     "name": "stdout",
     "output_type": "stream",
     "text": [
      "loss=0.0109 | val: {'acc': 0.7204301075268817, 'roc_auc': 0.8695652173913044, 'pr_auc': 0.8289835130289104, 'f1': 0.6666666666666666, 'sens_at_95spec': 0.3191489361702128}\n"
     ]
    },
    {
     "name": "stderr",
     "output_type": "stream",
     "text": [
      "Fine-tune 25/40: 100%|██████████| 18/18 [00:15<00:00,  1.18it/s]\n"
     ]
    },
    {
     "name": "stdout",
     "output_type": "stream",
     "text": [
      "loss=0.0093 | val: {'acc': 0.7634408602150538, 'roc_auc': 0.8950046253469011, 'pr_auc': 0.8989396425583823, 'f1': 0.725, 'sens_at_95spec': 0.44680851063829785}\n"
     ]
    },
    {
     "name": "stderr",
     "output_type": "stream",
     "text": [
      "Fine-tune 26/40: 100%|██████████| 18/18 [00:15<00:00,  1.14it/s]\n"
     ]
    },
    {
     "name": "stdout",
     "output_type": "stream",
     "text": [
      "loss=0.0137 | val: {'acc': 0.6989247311827957, 'roc_auc': 0.8695652173913043, 'pr_auc': 0.8702738851741735, 'f1': 0.6216216216216216, 'sens_at_95spec': 0.3829787234042553}\n",
      "Early stopping (fine-tune)\n",
      "=== Test === {'acc': 0.7526881720430108, 'roc_auc': 0.820536540240518, 'pr_auc': 0.8475828099692643, 'f1': 0.7012987012987013, 'sens_at_95spec': 0.5652173913043478}\n"
     ]
    }
   ],
   "source": [
    "model, test_metrics = train(\n",
    "    train_loader=train_loader, val_loader=val_loader, test_loader=test_loader,\n",
    "    epochs=EPOCHS, warmup_epochs=WARMUP_EPOCHS,\n",
    "    lr_head=LR_HEAD, lr_backbone=LR_BACKBONE,\n",
    "    weight_decay=WEIGHT_DECAY,\n",
    "    use_focal=USE_FOCAL, gamma=FOCAL_GAMMA, alpha=FOCAL_ALPHA,\n",
    "    patience=PATIENCE, out_dir=OUT_DIR\n",
    ")\n"
   ]
  },
  {
   "cell_type": "code",
   "execution_count": 17,
   "id": "6f291e95",
   "metadata": {},
   "outputs": [
    {
     "name": "stdout",
     "output_type": "stream",
     "text": [
      "Umbral ~95% espec (VAL): {'thr': 0.5710000000000001, 'sens': 0.574468085106383, 'spec': 0.9565217391304348}\n",
      "Umbral máx F1 (VAL):      {'thr': 0.431, 'f1': 0.8210526315789474}\n",
      "\n",
      "TEST @ thr(95% spec en VAL): {'acc': np.float64(0.7419354838709677), 'sens': np.float64(0.5), 'spec': np.float64(0.9787234042553191), 'f1': np.float64(0.6571428571428571), 'tp': np.int64(23), 'fp': np.int64(1), 'tn': np.int64(46), 'fn': np.int64(23)}\n",
      "TEST @ thr(max F1 en VAL):    {'acc': np.float64(0.6774193548387096), 'sens': np.float64(0.6521739130434783), 'spec': np.float64(0.7021276595744681), 'f1': np.float64(0.6666666666666666), 'tp': np.int64(30), 'fp': np.int64(14), 'tn': np.int64(33), 'fn': np.int64(16)}\n"
     ]
    }
   ],
   "source": [
    "@torch.no_grad()\n",
    "def collect_logits_targets(model, loader, device):\n",
    "    model.eval()\n",
    "    logits_all, targets_all = [], []\n",
    "    for x, y in loader:\n",
    "        x = x.to(device); y = y.float().unsqueeze(1).to(device)\n",
    "        logits = model(x)\n",
    "        logits_all.append(logits.cpu().numpy())\n",
    "        targets_all.append(y.cpu().numpy())\n",
    "    logits = np.concatenate(logits_all, axis=0).reshape(-1)\n",
    "    targets = np.concatenate(targets_all, axis=0).reshape(-1)\n",
    "    probs = 1/(1+np.exp(-logits))\n",
    "    return probs, targets\n",
    "\n",
    "def find_threshold_for_spec(probs, targets, target_spec=0.95):\n",
    "    ts = np.linspace(0,1,1001)\n",
    "    best = {\"thr\": 0.5, \"sens\": 0.0, \"spec\": 0.0}\n",
    "    for t in ts:\n",
    "        preds = (probs >= t).astype(np.int64)\n",
    "        tn = np.sum((preds==0) & (targets==0))\n",
    "        fp = np.sum((preds==1) & (targets==0))\n",
    "        tp = np.sum((preds==1) & (targets==1))\n",
    "        fn = np.sum((preds==0) & (targets==1))\n",
    "        spec = tn/(tn+fp) if (tn+fp)>0 else 0.0\n",
    "        sens = tp/(tp+fn) if (tp+fn)>0 else 0.0\n",
    "        if spec >= target_spec and sens > best[\"sens\"]:\n",
    "            best = {\"thr\": float(t), \"sens\": float(sens), \"spec\": float(spec)}\n",
    "    return best\n",
    "\n",
    "def find_threshold_max_f1(probs, targets):\n",
    "    ts = np.linspace(0,1,1001)\n",
    "    best = {\"thr\": 0.5, \"f1\": 0.0}\n",
    "    for t in ts:\n",
    "        preds = (probs >= t).astype(np.int64)\n",
    "        tp = np.sum((preds==1) & (targets==1))\n",
    "        fp = np.sum((preds==1) & (targets==0))\n",
    "        fn = np.sum((preds==0) & (targets==1))\n",
    "        f1 = (2*tp)/(2*tp+fp+fn) if (2*tp+fp+fn)>0 else 0.0\n",
    "        if f1 > best[\"f1\"]:\n",
    "            best = {\"thr\": float(t), \"f1\": float(f1)}\n",
    "    return best\n",
    "\n",
    "def evaluate_with_threshold(probs, targets, thr):\n",
    "    preds = (probs >= thr).astype(np.int64)\n",
    "    tn, fp, fn, tp = confusion_matrix(targets, preds, labels=[0,1]).ravel()\n",
    "    acc  = (tp+tn)/(tp+tn+fp+fn)\n",
    "    spec = tn/(tn+fp) if (tn+fp)>0 else 0.0\n",
    "    sens = tp/(tp+fn) if (tp+fn)>0 else 0.0\n",
    "    f1   = (2*tp)/(2*tp+fp+fn) if (2*tp+fp+fn)>0 else 0.0\n",
    "    return {\"acc\":acc, \"sens\":sens, \"spec\":spec, \"f1\":f1, \"tp\":tp, \"fp\":fp, \"tn\":tn, \"fn\":fn}\n",
    "\n",
    "# Umbrales en VAL\n",
    "probs_val, targets_val = collect_logits_targets(model, val_loader, device)\n",
    "opt_spec  = find_threshold_for_spec(probs_val, targets_val, target_spec=0.95)\n",
    "opt_f1    = find_threshold_max_f1(probs_val, targets_val)\n",
    "print(\"Umbral ~95% espec (VAL):\", opt_spec)\n",
    "print(\"Umbral máx F1 (VAL):     \", opt_f1)\n",
    "\n",
    "# Aplicar en TEST\n",
    "probs_test, targets_test = collect_logits_targets(model, test_loader, device)\n",
    "print(\"\\nTEST @ thr(95% spec en VAL):\", evaluate_with_threshold(probs_test, targets_test, opt_spec[\"thr\"]))\n",
    "print(\"TEST @ thr(max F1 en VAL):   \", evaluate_with_threshold(probs_test, targets_test, opt_f1[\"thr\"]))\n"
   ]
  },
  {
   "cell_type": "code",
   "execution_count": 18,
   "id": "5ba05ec6",
   "metadata": {},
   "outputs": [
    {
     "data": {
      "image/png": "[encoded data removed]",
      "text/plain": [
       "<Figure size 640x480 with 1 Axes>"
      ]
     },
     "metadata": {},
     "output_type": "display_data"
    },
    {
     "data": {
      "image/png": "[encoded data removed]",
      "text/plain": [
       "<Figure size 640x480 with 1 Axes>"
      ]
     },
     "metadata": {},
     "output_type": "display_data"
    },
    {
     "data": {
      "image/png": "[encoded data removed]",
      "text/plain": [
       "<Figure size 800x380 with 4 Axes>"
      ]
     },
     "metadata": {},
     "output_type": "display_data"
    }
   ],
   "source": [
    "use_thr = \"f1\"           # \"f1\" o \"spec\" (95% especificidad)\n",
    "\n",
    "probs = probs_test\n",
    "targets = targets_test\n",
    "thr = (opt_f1[\"thr\"] if use_thr==\"f1\" else opt_spec[\"thr\"])\n",
    "tag = \"TEST\"\n",
    "\n",
    "# Métricas globales\n",
    "auc = roc_auc_score(targets, probs)\n",
    "ap  = average_precision_score(targets, probs)\n",
    "\n",
    "# Punto de operación @ thr\n",
    "preds = (probs >= thr).astype(np.int64)\n",
    "tn, fp, fn, tp = confusion_matrix(targets, preds, labels=[0,1]).ravel()\n",
    "tpr_point = tp / (tp + fn) if (tp+fn)>0 else 0.0   # recall\n",
    "fpr_point = fp / (fp + tn) if (fp+tn)>0 else 0.0\n",
    "prec_point = tp / (tp + fp) if (tp+fp)>0 else 0.0\n",
    "\n",
    "# ===== ROC =====\n",
    "fpr, tpr, _ = roc_curve(targets, probs)\n",
    "plt.figure()\n",
    "plt.plot(fpr, tpr, label=f\"AUC = {auc:.3f}\")\n",
    "plt.scatter([fpr_point],[tpr_point], s=60, marker='o', label=f\"thr={thr:.3f}\")\n",
    "plt.xlabel(\"FPR\"); plt.ylabel(\"TPR\")\n",
    "plt.title(f\"ROC — {tag}\")\n",
    "plt.grid(True); plt.legend(); plt.show()\n",
    "\n",
    "# ===== PR =====\n",
    "rec, prec, _ = precision_recall_curve(targets, probs)\n",
    "plt.figure()\n",
    "plt.plot(rec, prec, label=f\"AP = {ap:.3f}\")\n",
    "plt.scatter([tpr_point],[prec_point], s=60, marker='o', label=f\"thr={thr:.3f}\")\n",
    "plt.xlabel(\"Recall\"); plt.ylabel(\"Precision\")\n",
    "plt.title(f\"Precision–Recall — {tag}\")\n",
    "plt.grid(True); plt.legend(); plt.show()\n",
    "\n",
    "# ===== Matriz de confusión: cruda + normalizada =====\n",
    "cm = confusion_matrix(targets, preds, labels=[0,1])\n",
    "cm_norm = cm.astype(float) / cm.sum(axis=1, keepdims=True).clip(min=1)\n",
    "\n",
    "fig, axes = plt.subplots(1, 2, figsize=(8, 3.8))\n",
    "\n",
    "ax = axes[0]\n",
    "im = ax.imshow(cm, interpolation='nearest')\n",
    "ax.set_title(f\"Confusion matrix (raw)\\n{tag} @ thr={thr:.3f}\")\n",
    "ax.set_xticks([0,1]); ax.set_yticks([0,1])\n",
    "ax.set_xticklabels(['Negative','Positive']); ax.set_yticklabels(['Negative','Positive'])\n",
    "plt.setp(ax.get_xticklabels(), rotation=45, ha=\"right\")\n",
    "for i in range(cm.shape[0]):\n",
    "    for j in range(cm.shape[1]):\n",
    "        ax.text(j, i, int(cm[i, j]), ha=\"center\", va=\"center\")\n",
    "ax.set_ylabel('True label'); ax.set_xlabel('Predicted label')\n",
    "plt.colorbar(im, ax=ax, fraction=0.046, pad=0.04)\n",
    "\n",
    "ax = axes[1]\n",
    "im2 = ax.imshow(cm_norm, interpolation='nearest', vmin=0, vmax=1)\n",
    "ax.set_title(\"row-normalized\")\n",
    "ax.set_xticks([0,1]); ax.set_yticks([0,1])\n",
    "ax.set_xticklabels(['Negative','Positive']); ax.set_yticklabels(['Negative','Positive'])\n",
    "plt.setp(ax.get_xticklabels(), rotation=45, ha=\"right\")\n",
    "for i in range(cm_norm.shape[0]):\n",
    "    for j in range(cm_norm.shape[1]):\n",
    "        ax.text(j, i, f\"{cm_norm[i,j]*100:.1f}%\", ha=\"center\", va=\"center\")\n",
    "ax.set_ylabel('True label'); ax.set_xlabel('Predicted label')\n",
    "plt.colorbar(im2, ax=ax, fraction=0.046, pad=0.04)\n",
    "\n",
    "plt.tight_layout(); plt.show()\n"
   ]
  }
 ],
 "metadata": {
  "kernelspec": {
   "display_name": "TFM",
   "language": "python",
   "name": "python3"
  },
  "language_info": {
   "codemirror_mode": {
    "name": "ipython",
    "version": 3
   },
   "file_extension": ".py",
   "mimetype": "text/x-python",
   "name": "python",
   "nbconvert_exporter": "python",
   "pygments_lexer": "ipython3",
   "version": "3.12.9"
  }
 },
 "nbformat": 4,
 "nbformat_minor": 5
}
