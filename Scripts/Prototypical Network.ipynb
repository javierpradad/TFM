{
 "cells": [
  {
   "cell_type": "markdown",
   "id": "8a165d7f",
   "metadata": {},
   "source": [
    "# Prototypical Network"
   ]
  },
  {
   "cell_type": "markdown",
   "id": "1b459b10",
   "metadata": {},
   "source": [
    "### Imports"
   ]
  },
  {
   "cell_type": "code",
   "execution_count": 1,
   "id": "98b47475",
   "metadata": {},
   "outputs": [
    {
     "name": "stderr",
     "output_type": "stream",
     "text": [
      "d:\\Anaconda\\envs\\TFM\\Lib\\site-packages\\tqdm\\auto.py:21: TqdmWarning: IProgress not found. Please update jupyter and ipywidgets. See https://ipywidgets.readthedocs.io/en/stable/user_install.html\n",
      "  from .autonotebook import tqdm as notebook_tqdm\n"
     ]
    }
   ],
   "source": [
    "import os, glob, platform, random, json, copy, math\n",
    "from pathlib import Path\n",
    "import numpy as np\n",
    "import cv2\n",
    "import albumentations as A\n",
    "from albumentations.pytorch import ToTensorV2\n",
    "\n",
    "import torch\n",
    "import torch.nn as nn\n",
    "import torch.optim as optim\n",
    "from torch.utils.data import Dataset, DataLoader\n",
    "from torchvision import models\n",
    "from torch.optim.lr_scheduler import CosineAnnealingLR\n",
    "\n",
    "from tqdm.auto import tqdm\n",
    "from sklearn.utils import shuffle\n",
    "from sklearn.cluster import KMeans\n",
    "from sklearn.metrics import (\n",
    "    roc_auc_score, average_precision_score, f1_score,\n",
    "    confusion_matrix, roc_curve, precision_recall_curve\n",
    ")\n",
    "import matplotlib.pyplot as plt\n",
    "\n",
    "from collections import defaultdict"
   ]
  },
  {
   "cell_type": "markdown",
   "id": "88e240a4",
   "metadata": {},
   "source": [
    "### Config"
   ]
  },
  {
   "cell_type": "code",
   "execution_count": 2,
   "id": "e33d5639",
   "metadata": {},
   "outputs": [
    {
     "name": "stdout",
     "output_type": "stream",
     "text": [
      "Device: cuda\n"
     ]
    }
   ],
   "source": [
    "# Configuración del dataset\n",
    "DATA_ROOT   = \"E:/TFM/Dataset_una_clase\"   # {train,val,test}/{negative,positive}\n",
    "IMAGE_SIZE  = 224\n",
    "BATCH_SIZE  = 16         # solo para sanity checks / evaluación por lotes\n",
    "SEED        = 42\n",
    "\n",
    "# 0 para evitar errores de multiprocessing en Windows\n",
    "NUM_WORKERS = 0 if platform.system().lower().startswith(\"win\") else 4\n",
    "\n",
    "# Entrenamiento\n",
    "N_WAY   = 2        # binary\n",
    "K_SHOT  = 8        # imágenes por clase en el soporte (ajusta 4..16)\n",
    "Q_QUERY = 8        # queries por clase en cada episodio\n",
    "EPISODES_PER_EPOCH = 100\n",
    "EPOCHS  = 50\n",
    "LR      = 1e-4\n",
    "WEIGHT_DECAY = 1e-4\n",
    "PATIENCE = 10\n",
    "OUT_DIR = \"E:/TFM/modelos/Outputs_proto\"\n",
    "\n",
    "# Variantes a comparar\n",
    "MODE = \"single_all\"   # \"single_all\" | \"multi_kmeans\"\n",
    "M_PROTOS_PER_CLASS = 3     # solo aplica a \"multi_kmeans\"\n",
    "LEARN_TAU = True           # activa temperature scaling aprendible en VAL\n",
    "\n",
    "# Dispositivo\n",
    "device = torch.device(\"cuda\" if torch.cuda.is_available() else \"cpu\")\n",
    "print(\"Device:\", device)\n",
    "\n",
    "# Reproducibilidad\n",
    "def set_seed(seed=SEED):\n",
    "    random.seed(seed); np.random.seed(seed)\n",
    "    torch.manual_seed(seed); torch.cuda.manual_seed_all(seed)\n",
    "set_seed()\n",
    "\n"
   ]
  },
  {
   "cell_type": "markdown",
   "id": "a46b61fc",
   "metadata": {},
   "source": [
    "### Transforms"
   ]
  },
  {
   "cell_type": "code",
   "execution_count": 3,
   "id": "38b44b3f",
   "metadata": {},
   "outputs": [],
   "source": [
    "def _resize(img_size: int):\n",
    "    return A.Resize(height=img_size, width=img_size)\n",
    "\n",
    "def _random_resized_crop(img_size: int):\n",
    "    try:\n",
    "        return A.RandomResizedCrop(size=(img_size, img_size), scale=(0.9, 1.0), ratio=(0.9, 1.1), p=1.0)\n",
    "    except TypeError:\n",
    "        return A.RandomResizedCrop(height=img_size, width=img_size, scale=(0.9, 1.0), ratio=(0.9, 1.1), p=1.0)\n",
    "\n",
    "train_tf = A.Compose([\n",
    "    _random_resized_crop(IMAGE_SIZE),\n",
    "    A.Affine(\n",
    "        translate_percent={\"x\": (-0.05, 0.05), \"y\": (-0.05, 0.05)},\n",
    "        scale=(0.9, 1.1), \n",
    "        rotate=(-7, 7),\n",
    "        interpolation=cv2.INTER_LINEAR, \n",
    "        border_mode=cv2.BORDER_CONSTANT, \n",
    "        p=0.9\n",
    "    ),\n",
    "    A.CLAHE(clip_limit=2.0, tile_grid_size=(8, 8), p=1.0),\n",
    "    A.RandomBrightnessContrast(0.10, 0.10, p=0.7),\n",
    "    A.GaussianBlur(blur_limit=(3, 3), p=0.2),\n",
    "    A.Normalize(mean=[0.5]*3, std=[0.25]*3),\n",
    "    ToTensorV2(),\n",
    "])\n",
    "\n",
    "eval_tf = A.Compose([\n",
    "    _resize(IMAGE_SIZE),\n",
    "    A.Normalize(mean=[0.5, 0.5, 0.5], std=[0.25, 0.25, 0.25]),\n",
    "    ToTensorV2(),\n",
    "])\n"
   ]
  },
  {
   "cell_type": "markdown",
   "id": "029bf4e1",
   "metadata": {},
   "source": [
    "### Dataset"
   ]
  },
  {
   "cell_type": "code",
   "execution_count": 4,
   "id": "af168ef6",
   "metadata": {},
   "outputs": [
    {
     "name": "stdout",
     "output_type": "stream",
     "text": [
      "Train: 278 | Val: 93 | Test: 93\n",
      "Batch shape: torch.Size([16, 3, 224, 224]) | Labels shape: torch.Size([16])\n",
      "Post-Normalize -> mean: -0.0785338506102562 std: 1.1591399908065796\n"
     ]
    }
   ],
   "source": [
    "class ChestXrayDataset(Dataset):\n",
    "    def __init__(self, root_split_dir, transform=None):\n",
    "        self.root = root_split_dir\n",
    "        self.transform = transform\n",
    "        self.class_to_idx = {\"negative\": 0, \"positive\": 1}\n",
    "        self.samples = []\n",
    "\n",
    "        exts = (\"*.png\", \"*.jpg\", \"*.jpeg\", \"*.bmp\", \"*.tif\", \"*.tiff\")\n",
    "        for cls in [\"negative\", \"positive\"]:\n",
    "            for ext in exts:\n",
    "                for f in glob.glob(os.path.join(self.root, cls, ext)):\n",
    "                    self.samples.append((f, self.class_to_idx[cls]))\n",
    "\n",
    "        # filtrar ilegibles\n",
    "        valid, skipped = [], []\n",
    "        for path, label in self.samples:\n",
    "            img = cv2.imread(path, cv2.IMREAD_GRAYSCALE)\n",
    "            if img is None or img.size == 0:\n",
    "                skipped.append(path)\n",
    "            else:\n",
    "                valid.append((path, label))\n",
    "        if skipped:\n",
    "            print(f\"[WARN] {len(skipped)} ilegibles en {self.root}, se omiten.\")\n",
    "        self.samples = shuffle(valid, random_state=SEED)\n",
    "        if len(self.samples) == 0:\n",
    "            raise RuntimeError(f\"No hay imágenes en {self.root}\")\n",
    "        \n",
    "    def __len__(self): \n",
    "        return len(self.samples)\n",
    "    \n",
    "    def __getitem__(self, idx):\n",
    "        path, label = self.samples[idx]\n",
    "        img = cv2.imread(path, cv2.IMREAD_GRAYSCALE)\n",
    "        img = cv2.cvtColor(img, cv2.COLOR_GRAY2RGB)\n",
    "        if self.transform: \n",
    "            img = self.transform(image=img)[\"image\"]\n",
    "        return img, torch.tensor(label, dtype=torch.long)\n",
    "\n",
    "def make_loaders():\n",
    "    train_ds = ChestXrayDataset(os.path.join(DATA_ROOT, \"train\"), transform=train_tf)\n",
    "    val_ds   = ChestXrayDataset(os.path.join(DATA_ROOT, \"val\"),   transform=eval_tf)\n",
    "    test_ds  = ChestXrayDataset(os.path.join(DATA_ROOT, \"test\"),  transform=eval_tf)\n",
    "\n",
    "    train_loader = DataLoader(train_ds, batch_size=BATCH_SIZE, shuffle=True,\n",
    "                              num_workers=NUM_WORKERS, pin_memory=False)\n",
    "    val_loader   = DataLoader(val_ds, batch_size=BATCH_SIZE, shuffle=False,\n",
    "                              num_workers=NUM_WORKERS, pin_memory=False)\n",
    "    test_loader  = DataLoader(test_ds, batch_size=BATCH_SIZE, shuffle=False,\n",
    "                              num_workers=NUM_WORKERS, pin_memory=False)\n",
    "    return train_loader, val_loader, test_loader, train_ds, val_ds, test_ds\n",
    "\n",
    "train_loader, val_loader, test_loader, train_ds, val_ds, test_ds = make_loaders()\n",
    "print(f\"Train: {len(train_ds)} | Val: {len(val_ds)} | Test: {len(test_ds)}\")\n",
    "imgs, labels = next(iter(train_loader))\n",
    "print(\"Batch shape:\", imgs.shape, \"| Labels shape:\", labels.shape)\n",
    "print(\"Post-Normalize -> mean:\", imgs.float().mean().item(), \"std:\", imgs.float().std().item())\n"
   ]
  },
  {
   "cell_type": "markdown",
   "id": "2de20062",
   "metadata": {},
   "source": [
    "### Encoder (Backbone) + Proto Head"
   ]
  },
  {
   "cell_type": "code",
   "execution_count": 5,
   "id": "0787aa1e",
   "metadata": {},
   "outputs": [],
   "source": [
    "class ResNetEncoder(nn.Module):\n",
    "    def __init__(self, pretrained=True, out_dim=2048, proj_dim=512):\n",
    "        super().__init__()\n",
    "        try:\n",
    "            weights = models.ResNet50_Weights.IMAGENET1K_V2 if pretrained else None\n",
    "            base = models.resnet50(weights=weights)\n",
    "        except Exception:\n",
    "            base = models.resnet50(pretrained=pretrained)\n",
    "        modules = list(base.children())[:-1]  # quitar FC\n",
    "        self.backbone = nn.Sequential(*modules)  # -> [B, 2048, 1, 1]\n",
    "        self.out_dim = out_dim\n",
    "        self.proj = nn.Sequential(\n",
    "            nn.Flatten(),\n",
    "            nn.Linear(out_dim, proj_dim),\n",
    "            nn.ReLU(inplace=True)\n",
    "        )\n",
    "        self.l2norm = nn.functional.normalize\n",
    "    def forward(self, x):\n",
    "        feats = self.backbone(x)           # [B,2048,1,1]\n",
    "        emb = self.proj(feats)             # [B,proj_dim]\n",
    "        emb = self.l2norm(emb, dim=1)\n",
    "        return emb\n",
    "\n",
    "def pairwise_euclidean(a, b):\n",
    "    # a: [M,D], b:[N,D] -> [M,N]\n",
    "    a2 = (a*a).sum(dim=1, keepdim=True)   # [M,1]\n",
    "    b2 = (b*b).sum(dim=1, keepdim=True).T # [1,N]\n",
    "    ab = a @ b.T\n",
    "    return a2 + b2 - 2*ab"
   ]
  },
  {
   "cell_type": "markdown",
   "id": "d02393bb",
   "metadata": {},
   "source": [
    "### Entrenamiento"
   ]
  },
  {
   "cell_type": "code",
   "execution_count": 6,
   "id": "fa263bc3",
   "metadata": {},
   "outputs": [
    {
     "name": "stderr",
     "output_type": "stream",
     "text": [
      "                                                             \r"
     ]
    },
    {
     "name": "stdout",
     "output_type": "stream",
     "text": [
      "[E1] loss=0.5611 | episodic_acc=0.774 | val_auc≈0.880 | val_pr≈0.894\n"
     ]
    },
    {
     "name": "stderr",
     "output_type": "stream",
     "text": [
      "                                                             \r"
     ]
    },
    {
     "name": "stdout",
     "output_type": "stream",
     "text": [
      "[E2] loss=0.4029 | episodic_acc=0.926 | val_auc≈0.894 | val_pr≈0.905\n"
     ]
    },
    {
     "name": "stderr",
     "output_type": "stream",
     "text": [
      "                                                             \r"
     ]
    },
    {
     "name": "stdout",
     "output_type": "stream",
     "text": [
      "[E3] loss=0.3515 | episodic_acc=0.971 | val_auc≈0.851 | val_pr≈0.872\n"
     ]
    },
    {
     "name": "stderr",
     "output_type": "stream",
     "text": [
      "                                                             \r"
     ]
    },
    {
     "name": "stdout",
     "output_type": "stream",
     "text": [
      "[E4] loss=0.3403 | episodic_acc=0.979 | val_auc≈0.850 | val_pr≈0.879\n"
     ]
    },
    {
     "name": "stderr",
     "output_type": "stream",
     "text": [
      "                                                             \r"
     ]
    },
    {
     "name": "stdout",
     "output_type": "stream",
     "text": [
      "[E5] loss=0.3294 | episodic_acc=0.990 | val_auc≈0.851 | val_pr≈0.876\n"
     ]
    },
    {
     "name": "stderr",
     "output_type": "stream",
     "text": [
      "                                                             \r"
     ]
    },
    {
     "name": "stdout",
     "output_type": "stream",
     "text": [
      "[E6] loss=0.3306 | episodic_acc=0.989 | val_auc≈0.877 | val_pr≈0.898\n"
     ]
    },
    {
     "name": "stderr",
     "output_type": "stream",
     "text": [
      "                                                             \r"
     ]
    },
    {
     "name": "stdout",
     "output_type": "stream",
     "text": [
      "[E7] loss=0.3269 | episodic_acc=0.989 | val_auc≈0.884 | val_pr≈0.903\n"
     ]
    },
    {
     "name": "stderr",
     "output_type": "stream",
     "text": [
      "                                                             \r"
     ]
    },
    {
     "name": "stdout",
     "output_type": "stream",
     "text": [
      "[E8] loss=0.3332 | episodic_acc=0.984 | val_auc≈0.850 | val_pr≈0.868\n"
     ]
    },
    {
     "name": "stderr",
     "output_type": "stream",
     "text": [
      "                                                             \r"
     ]
    },
    {
     "name": "stdout",
     "output_type": "stream",
     "text": [
      "[E9] loss=0.3187 | episodic_acc=0.996 | val_auc≈0.836 | val_pr≈0.850\n"
     ]
    },
    {
     "name": "stderr",
     "output_type": "stream",
     "text": [
      "                                                              \r"
     ]
    },
    {
     "name": "stdout",
     "output_type": "stream",
     "text": [
      "[E10] loss=0.3191 | episodic_acc=0.997 | val_auc≈0.846 | val_pr≈0.861\n"
     ]
    },
    {
     "name": "stderr",
     "output_type": "stream",
     "text": [
      "                                                              \r"
     ]
    },
    {
     "name": "stdout",
     "output_type": "stream",
     "text": [
      "[E11] loss=0.3144 | episodic_acc=1.000 | val_auc≈0.846 | val_pr≈0.843\n"
     ]
    },
    {
     "name": "stderr",
     "output_type": "stream",
     "text": [
      "                                                              \r"
     ]
    },
    {
     "name": "stdout",
     "output_type": "stream",
     "text": [
      "[E12] loss=0.3202 | episodic_acc=0.995 | val_auc≈0.860 | val_pr≈0.875\n",
      "Early stopping.\n"
     ]
    }
   ],
   "source": [
    "def index_by_class(ds):\n",
    "    idxs = defaultdict(list)\n",
    "    for i, (_, y) in enumerate(ds.samples):\n",
    "        idxs[y].append(i)\n",
    "    return idxs\n",
    "\n",
    "train_index = index_by_class(train_ds)\n",
    "val_index   = index_by_class(val_ds)\n",
    "test_index  = index_by_class(test_ds)\n",
    "\n",
    "def sample_episode(ds, idx_by_class, n_way=2, k_shot=5, q_query=5):\n",
    "    classes = [0,1] if n_way==2 else sorted(idx_by_class.keys())[:n_way]\n",
    "    xs_list, ys_list, xq_list, yq_list = [], [], [], []\n",
    "    for c in classes:\n",
    "        idxs = np.random.choice(idx_by_class[c], size=k_shot+q_query, replace=len(idx_by_class[c])<(k_shot+q_query))\n",
    "        s_idx = idxs[:k_shot]; q_idx = idxs[k_shot:]\n",
    "        for ii in s_idx:\n",
    "            x,_ = ds[ii]; xs_list.append(x); ys_list.append(c)\n",
    "        for ii in q_idx:\n",
    "            x,_ = ds[ii]; xq_list.append(x); yq_list.append(c)\n",
    "    xs = torch.stack(xs_list, dim=0); ys = torch.tensor(ys_list, dtype=torch.long)\n",
    "    xq = torch.stack(xq_list, dim=0); yq = torch.tensor(yq_list, dtype=torch.long)\n",
    "    return xs, ys, xq, yq\n",
    "\n",
    "def episodic_loss(encoder, xs, ys, xq, yq, device):\n",
    "    xs = xs.to(device); xq = xq.to(device)\n",
    "    ys = ys.to(device); yq = yq.to(device)\n",
    "    emb_s = encoder(xs)   # [N_way*K, D]\n",
    "    emb_q = encoder(xq)   # [N_way*Q, D]\n",
    "    classes = torch.unique(ys)\n",
    "    protos = []\n",
    "    for c in classes:\n",
    "        protos.append(emb_s[ys==c].mean(dim=0))\n",
    "    protos = torch.stack(protos, dim=0)             # [N_way, D]\n",
    "    protos = nn.functional.normalize(protos, dim=1)\n",
    "    logits = emb_q @ protos.T                       # similitud coseno\n",
    "    label_map = {int(c.item()):i for i,c in enumerate(classes)}\n",
    "    yq_mapped = torch.tensor([label_map[int(t.item())] for t in yq], device=device)\n",
    "    loss = nn.CrossEntropyLoss()(logits, yq_mapped)\n",
    "    acc = (logits.argmax(dim=1)==yq_mapped).float().mean().item()\n",
    "    return loss, acc\n",
    "\n",
    "\n",
    "def train_encoder(train_ds, val_ds):\n",
    "    os.makedirs(OUT_DIR, exist_ok=True)\n",
    "    encoder = ResNetEncoder(pretrained=True).to(device)\n",
    "    opt = optim.AdamW(encoder.parameters(), lr=LR, weight_decay=WEIGHT_DECAY)\n",
    "    sch = CosineAnnealingLR(opt, T_max=EPOCHS)\n",
    "    best_state, best_auc, no_imp = None, -1, 0\n",
    "    tr_idx = index_by_class(train_ds)\n",
    "\n",
    "    for ep in range(EPOCHS):\n",
    "        encoder.train()\n",
    "        losses, accs = [], []\n",
    "        for _ in tqdm(range(EPISODES_PER_EPOCH), leave=False, desc=f\"Epoch {ep+1}/{EPOCHS}\"):\n",
    "            xs, ys, xq, yq = sample_episode(train_ds, tr_idx, N_WAY, K_SHOT, Q_QUERY)\n",
    "            # >>> aquí pasamos device <<<\n",
    "            loss, acc = episodic_loss(encoder, xs, ys, xq, yq, device)\n",
    "            opt.zero_grad(set_to_none=True)\n",
    "            loss.backward(); opt.step()\n",
    "            losses.append(loss.item()); accs.append(acc)\n",
    "        sch.step()\n",
    "\n",
    "        # Early stopping: AUC@tau=1 con protos rápidos de TRAIN (K_SHOT)\n",
    "        encoder.eval()\n",
    "        with torch.no_grad():\n",
    "            # construir protos rápidos (K_SHOT por clase)\n",
    "            sup_imgs, sup_lbls = [], []\n",
    "            for c in [0,1]:\n",
    "                perm = np.random.permutation(tr_idx[c])[:min(K_SHOT, len(tr_idx[c]))]\n",
    "                for ii in perm:\n",
    "                    x,_ = train_ds[ii]; sup_imgs.append(x); sup_lbls.append(c)\n",
    "            sup = torch.stack(sup_imgs).to(device)\n",
    "            emb = encoder(sup); emb = nn.functional.normalize(emb, dim=1)\n",
    "            prot_neg = emb[torch.tensor(sup_lbls)==0].mean(dim=0, keepdim=True)\n",
    "            prot_pos = emb[torch.tensor(sup_lbls)==1].mean(dim=0, keepdim=True)\n",
    "            protos = torch.cat([prot_neg, prot_pos], dim=0)\n",
    "            protos = nn.functional.normalize(protos, dim=1)\n",
    "\n",
    "            # probs en VAL\n",
    "            loader = DataLoader(val_ds, batch_size=BATCH_SIZE, shuffle=False, num_workers=NUM_WORKERS)\n",
    "            probs, ys = [], []\n",
    "            for x,y in loader:\n",
    "                x = x.to(device)\n",
    "                e = encoder(x); e = nn.functional.normalize(e, dim=1)\n",
    "                logits = e @ protos.T\n",
    "                p = torch.softmax(logits, dim=1)[:,1]\n",
    "                probs.append(p.cpu().numpy()); ys.append(y.numpy())\n",
    "            pv = np.concatenate(probs,0); yv = np.concatenate(ys,0)\n",
    "            try:\n",
    "                auc = roc_auc_score(yv, pv)\n",
    "                ap  = average_precision_score(yv, pv)\n",
    "            except Exception:\n",
    "                auc, ap = 0.0, 0.0\n",
    "\n",
    "        print(f\"[E{ep+1}] loss={np.mean(losses):.4f} | episodic_acc={np.mean(accs):.3f} | val_auc≈{auc:.3f} | val_pr≈{ap:.3f}\")\n",
    "        if auc > best_auc:\n",
    "            best_auc = auc; no_imp = 0\n",
    "            best_state = copy.deepcopy(encoder.state_dict())\n",
    "            torch.save(best_state, os.path.join(OUT_DIR, \"best_proto.pt\"))\n",
    "        else:\n",
    "            no_imp += 1\n",
    "            if no_imp >= PATIENCE:\n",
    "                print(\"Early stopping.\")\n",
    "                break\n",
    "\n",
    "    if best_state is not None:\n",
    "        encoder.load_state_dict(best_state)\n",
    "    return encoder\n",
    "\n",
    "encoder = train_encoder(train_ds, val_ds)"
   ]
  },
  {
   "cell_type": "markdown",
   "id": "72957abd",
   "metadata": {},
   "source": [
    "### Evaluación"
   ]
  },
  {
   "cell_type": "code",
   "execution_count": 7,
   "id": "40d51f95",
   "metadata": {},
   "outputs": [],
   "source": [
    "def embeddings_of_dataset(ds, encoder, batch_size=64):\n",
    "    loader = DataLoader(ds, batch_size=batch_size, shuffle=False, num_workers=NUM_WORKERS, pin_memory=False)\n",
    "    embs, ys = [], []\n",
    "    for x,y in loader:\n",
    "        x = x.to(device)\n",
    "        e = encoder(x)\n",
    "        e = nn.functional.normalize(e, dim=1)\n",
    "        embs.append(e.cpu()); ys.append(y)\n",
    "    return torch.cat(embs,0), torch.cat(ys,0)\n",
    "\n",
    "def build_prototypes_from_all(train_ds, encoder):\n",
    "    E, Y = embeddings_of_dataset(train_ds, encoder)\n",
    "    Y = Y.numpy()\n",
    "    prot_neg = E[torch.tensor(Y)==0].mean(dim=0, keepdim=True)\n",
    "    prot_pos = E[torch.tensor(Y)==1].mean(dim=0, keepdim=True)\n",
    "    protos = torch.cat([prot_neg, prot_pos], dim=0)\n",
    "    protos = nn.functional.normalize(protos, dim=1)\n",
    "    return protos\n",
    "\n",
    "def build_multi_prototypes(train_ds, encoder, m_per_class=3):\n",
    "    E, Y = embeddings_of_dataset(train_ds, encoder)\n",
    "    E_np, Y_np = E.numpy(), Y.numpy()\n",
    "    protos = []\n",
    "    for c in [0,1]:\n",
    "        Ec = E_np[Y_np==c]\n",
    "        k = min(m_per_class, max(1, len(Ec)))\n",
    "        if k == 1:\n",
    "            proto_c = Ec.mean(axis=0, keepdims=True)\n",
    "        else:\n",
    "            km = KMeans(n_clusters=k, n_init=10, random_state=SEED).fit(Ec)\n",
    "            proto_c = km.cluster_centers_\n",
    "        protos.append(torch.tensor(proto_c, dtype=torch.float32))\n",
    "    protos = torch.vstack(protos)\n",
    "    protos = nn.functional.normalize(protos, dim=1)\n",
    "    return protos\n",
    "\n",
    "@torch.no_grad()\n",
    "def probs_from_single_protos(encoder, ds, protos, tau=1.0, batch_size=64):\n",
    "    protos_dev = protos.to(device)                          # <-- mover a device\n",
    "    loader = DataLoader(ds, batch_size=batch_size, shuffle=False, num_workers=NUM_WORKERS, pin_memory=False)\n",
    "    probs, ys = [], []\n",
    "    for x,y in loader:\n",
    "        x = x.to(device)\n",
    "        e = encoder(x); e = nn.functional.normalize(e, dim=1)\n",
    "        logits = (e @ protos_dev.T) / tau                   # [B,2]\n",
    "        p = torch.softmax(logits, dim=1)[:,1]\n",
    "        probs.append(p.cpu().numpy()); ys.append(y.numpy())\n",
    "    return np.concatenate(probs,0), np.concatenate(ys,0)\n",
    "\n",
    "@torch.no_grad()\n",
    "def probs_from_multi_protos(encoder, ds, protos, m_per_class=3, tau=1.0, batch_size=64):\n",
    "    protos_dev = protos.to(device)                          # <-- mover a device\n",
    "    loader = DataLoader(ds, batch_size=batch_size, shuffle=False, num_workers=NUM_WORKERS, pin_memory=False)\n",
    "    probs, ys = [], []\n",
    "    for x,y in loader:\n",
    "        x = x.to(device)\n",
    "        e = encoder(x); e = nn.functional.normalize(e, dim=1)  # [B,D]\n",
    "        sims = e @ protos_dev.T                                # [B, M0+M1]\n",
    "        s_neg = sims[:, :m_per_class].max(dim=1, keepdim=True).values\n",
    "        s_pos = sims[:, m_per_class:].max(dim=1, keepdim=True).values\n",
    "        logits = torch.cat([s_neg, s_pos], dim=1) / tau\n",
    "        p = torch.softmax(logits, dim=1)[:,1]\n",
    "        probs.append(p.cpu().numpy()); ys.append(y.numpy())\n",
    "    return np.concatenate(probs,0), np.concatenate(ys,0)"
   ]
  },
  {
   "cell_type": "code",
   "execution_count": 8,
   "id": "b3c972a3",
   "metadata": {},
   "outputs": [],
   "source": [
    "class TemperatureScaler(nn.Module):\n",
    "    def __init__(self, init_tau=1.0):\n",
    "        super().__init__()\n",
    "        self.log_tau = nn.Parameter(torch.tensor([math.log(init_tau)], dtype=torch.float32))\n",
    "    def forward(self, logits):\n",
    "        return logits / torch.exp(self.log_tau)\n",
    "\n",
    "def collect_logits_and_targets(encoder, ds, protos, multi=False, m_per_class=3, batch_size=64):\n",
    "    protos_dev = protos.to(device)                          # <-- mover a device\n",
    "    loader = DataLoader(ds, batch_size=batch_size, shuffle=False, num_workers=NUM_WORKERS, pin_memory=False)\n",
    "    logits_list, targets_list = [], []\n",
    "    with torch.no_grad():\n",
    "        for x,y in loader:\n",
    "            x = x.to(device)\n",
    "            e = encoder(x); e = nn.functional.normalize(e, dim=1)\n",
    "            if multi:\n",
    "                sims = e @ protos_dev.T\n",
    "                s_neg = sims[:, :m_per_class].max(dim=1, keepdim=True).values\n",
    "                s_pos = sims[:, m_per_class:].max(dim=1, keepdim=True).values\n",
    "                logits = torch.cat([s_neg, s_pos], dim=1)      # [B,2]\n",
    "            else:\n",
    "                logits = e @ protos_dev.T                      # [B,2]\n",
    "            logits_list.append(logits)\n",
    "            targets_list.append(y.to(device, dtype=torch.long))\n",
    "    return torch.cat(logits_list,0), torch.cat(targets_list,0)\n",
    "\n",
    "def fit_temperature_on_val(encoder, val_ds, protos, multi=False, m_per_class=3, max_iter=200, lr=0.05):\n",
    "    logits, y = collect_logits_and_targets(encoder, val_ds, protos, multi=multi, m_per_class=m_per_class)\n",
    "    scaler = TemperatureScaler(init_tau=1.0).to(device)\n",
    "    ce = nn.CrossEntropyLoss()\n",
    "    opt = torch.optim.LBFGS(scaler.parameters(), lr=lr, max_iter=max_iter)\n",
    "\n",
    "    def closure():\n",
    "        opt.zero_grad()\n",
    "        loss = ce(scaler(logits), y) \n",
    "        loss.backward()\n",
    "        return loss\n",
    "\n",
    "    opt.step(closure)\n",
    "    with torch.no_grad():\n",
    "        tau = float(torch.exp(scaler.log_tau).item())\n",
    "    return tau"
   ]
  },
  {
   "cell_type": "code",
   "execution_count": 9,
   "id": "d9115ea3",
   "metadata": {},
   "outputs": [],
   "source": [
    "def find_threshold_for_spec(probs, targets, target_spec=0.95):\n",
    "    ts = np.linspace(0,1,1001); best = {\"thr\": 0.5, \"sens\": 0.0, \"spec\": 0.0}\n",
    "    for t in ts:\n",
    "        preds = (probs >= t).astype(np.int64)\n",
    "        tn = np.sum((preds==0) & (targets==0)); fp = np.sum((preds==1) & (targets==0))\n",
    "        tp = np.sum((preds==1) & (targets==1)); fn = np.sum((preds==0) & (targets==1))\n",
    "        spec = tn/(tn+fp) if (tn+fp)>0 else 0.0; sens = tp/(tp+fn) if (tp+fn)>0 else 0.0\n",
    "        if spec >= target_spec and sens > best[\"sens\"]:\n",
    "            best = {\"thr\": float(t), \"sens\": float(sens), \"spec\": float(spec)}\n",
    "    return best\n",
    "\n",
    "def find_threshold_max_f1(probs, targets):\n",
    "    ts = np.linspace(0,1,1001); best = {\"thr\": 0.5, \"f1\": 0.0}\n",
    "    for t in ts:\n",
    "        preds = (probs >= t).astype(np.int64)\n",
    "        tp = np.sum((preds==1) & (targets==1)); fp = np.sum((preds==1) & (targets==0)); fn = np.sum((preds==0) & (targets==1))\n",
    "        f1 = (2*tp)/(2*tp+fp+fn) if (2*tp+fp+fn)>0 else 0.0\n",
    "        if f1 > best[\"f1\"]:\n",
    "            best = {\"thr\": float(t), \"f1\": float(f1)}\n",
    "    return best\n",
    "\n",
    "def eval_with_thr(probs, targets, thr):\n",
    "    preds = (probs >= thr).astype(np.int64)\n",
    "    tn, fp, fn, tp = confusion_matrix(targets, preds, labels=[0,1]).ravel()\n",
    "    acc  = (tp+tn)/(tp+tn+fp+fn)\n",
    "    spec = tn/(tn+fp) if (tn+fp)>0 else 0.0\n",
    "    sens = tp/(tp+fn) if (tp+fn)>0 else 0.0\n",
    "    f1   = (2*tp)/(2*tp+fp+fn) if (2*tp+fp+fn)>0 else 0.0\n",
    "    return {\"acc\":acc, \"sens\":sens, \"spec\":spec, \"f1\":f1, \"tp\":tp, \"fp\":fp, \"tn\":tn, \"fn\":fn}\n"
   ]
  },
  {
   "cell_type": "code",
   "execution_count": 10,
   "id": "d5b0416c",
   "metadata": {},
   "outputs": [],
   "source": [
    "if MODE == \"single_all\":\n",
    "    protos_train = build_prototypes_from_all(train_ds, encoder)\n",
    "    multi = False\n",
    "elif MODE == \"multi_kmeans\":\n",
    "    protos_train = build_multi_prototypes(train_ds, encoder, m_per_class=M_PROTOS_PER_CLASS)\n",
    "    multi = True\n",
    "else:\n",
    "    raise ValueError(\"MODE debe ser 'single_all' o 'multi_kmeans'\")"
   ]
  },
  {
   "cell_type": "code",
   "execution_count": 11,
   "id": "c40dc508",
   "metadata": {},
   "outputs": [
    {
     "name": "stdout",
     "output_type": "stream",
     "text": [
      "[Temperature scaling] τ aprendido en VAL: 0.892\n"
     ]
    }
   ],
   "source": [
    "if LEARN_TAU:\n",
    "    tau_val = fit_temperature_on_val(\n",
    "        encoder, val_ds, protos_train,\n",
    "        multi=(MODE==\"multi_kmeans\"), m_per_class=M_PROTOS_PER_CLASS\n",
    ")\n",
    "    print(f\"[Temperature scaling] τ aprendido en VAL: {tau_val:.3f}\")\n",
    "else:\n",
    "    # barrido de taus (si prefieres no aprender τ)\n",
    "    taus = np.geomspace(0.25, 4.0, 13)\n",
    "    scores = []\n",
    "    for tau in taus:\n",
    "        if multi:\n",
    "            pv, yv = probs_from_multi_protos(encoder, val_ds, protos_train, M_PROTOS_PER_CLASS, tau, BATCH_SIZE)\n",
    "        else:\n",
    "            pv, yv = probs_from_single_protos(encoder, val_ds, protos_train, tau, BATCH_SIZE)\n",
    "        try:\n",
    "            scores.append((tau, roc_auc_score(yv, pv)))\n",
    "        except Exception:\n",
    "            scores.append((tau, 0.0))\n",
    "    tau_val = max(scores, key=lambda x: x[1])[0]\n",
    "    print(f\"[Grid τ] Mejor τ en VAL por AUC: {tau_val:.3f}\")"
   ]
  },
  {
   "cell_type": "code",
   "execution_count": 12,
   "id": "b13aa409",
   "metadata": {},
   "outputs": [
    {
     "name": "stdout",
     "output_type": "stream",
     "text": [
      "VAL (umbral máx-F1): {'thr': 0.266, 'f1': 0.8351648351648352}\n",
      "VAL (~95% spec):     {'thr': 0.28500000000000003, 'sens': 0.5531914893617021, 'spec': 0.9565217391304348}\n"
     ]
    }
   ],
   "source": [
    "if multi:\n",
    "    pv, yv = probs_from_multi_protos(encoder, val_ds, protos_train, M_PROTOS_PER_CLASS, tau_val, BATCH_SIZE)\n",
    "else:\n",
    "    pv, yv = probs_from_single_protos(encoder, val_ds, protos_train, tau_val, BATCH_SIZE)\n",
    "\n",
    "best_f1   = find_threshold_max_f1(pv, yv)\n",
    "best_spec = find_threshold_for_spec(pv, yv, 0.95)\n",
    "print(\"VAL (umbral máx-F1):\", best_f1)\n",
    "print(\"VAL (~95% spec):    \", best_spec)"
   ]
  },
  {
   "cell_type": "code",
   "execution_count": 14,
   "id": "4840c557",
   "metadata": {},
   "outputs": [
    {
     "name": "stdout",
     "output_type": "stream",
     "text": [
      "\n",
      "=== TEST (Proto, MODE=single_all, τ=0.892) ===\n",
      "AUC: 0.889 | PR-AUC: 0.901\n",
      "TEST @ thr(max F1 VAL):    {'acc': np.float64(0.8064516129032258), 'sens': np.float64(0.782608695652174), 'spec': np.float64(0.8297872340425532), 'f1': np.float64(0.8), 'tp': np.int64(36), 'fp': np.int64(8), 'tn': np.int64(39), 'fn': np.int64(10)}\n",
      "TEST @ thr(95% spec VAL):  {'acc': np.float64(0.7741935483870968), 'sens': np.float64(0.6956521739130435), 'spec': np.float64(0.851063829787234), 'f1': np.float64(0.7529411764705882), 'tp': np.int64(32), 'fp': np.int64(7), 'tn': np.int64(40), 'fn': np.int64(14)}\n"
     ]
    }
   ],
   "source": [
    "if multi:\n",
    "    ptest, ytest = probs_from_multi_protos(encoder, test_ds, protos_train, M_PROTOS_PER_CLASS, tau_val, BATCH_SIZE)\n",
    "else:\n",
    "    ptest, ytest = probs_from_single_protos(encoder, test_ds, protos_train, tau_val, BATCH_SIZE)\n",
    "\n",
    "auc = roc_auc_score(ytest, ptest)\n",
    "ap  = average_precision_score(ytest, ptest)\n",
    "\n",
    "print(\"\\n=== TEST (Proto, MODE=\", MODE, \", τ=\", f\"{tau_val:.3f}\", \") ===\", sep=\"\")\n",
    "print(f\"AUC: {auc:.3f} | PR-AUC: {ap:.3f}\")\n",
    "print(\"TEST @ thr(max F1 VAL):   \", eval_with_thr(ptest, ytest, best_f1[\"thr\"]))\n",
    "print(\"TEST @ thr(95% spec VAL): \", eval_with_thr(ptest, ytest, best_spec[\"thr\"]))"
   ]
  },
  {
   "cell_type": "code",
   "execution_count": 15,
   "id": "7136180b",
   "metadata": {},
   "outputs": [
    {
     "data": {
      "image/png": "[encoded data removed]",
      "text/plain": [
       "<Figure size 640x480 with 1 Axes>"
      ]
     },
     "metadata": {},
     "output_type": "display_data"
    },
    {
     "data": {
      "image/png": "[encoded data removed]",
      "text/plain": [
       "<Figure size 640x480 with 1 Axes>"
      ]
     },
     "metadata": {},
     "output_type": "display_data"
    },
    {
     "data": {
      "image/png": "[encoded data removed]",
      "text/plain": [
       "<Figure size 800x380 with 4 Axes>"
      ]
     },
     "metadata": {},
     "output_type": "display_data"
    }
   ],
   "source": [
    "def plot_all(tag, probs, targets, thr, tau_used):\n",
    "    auc = roc_auc_score(targets, probs)\n",
    "    ap  = average_precision_score(targets, probs)\n",
    "    preds = (probs>=thr).astype(np.int64)\n",
    "    tn, fp, fn, tp = confusion_matrix(targets, preds, labels=[0,1]).ravel()\n",
    "    tpr_point = tp/(tp+fn) if (tp+fn)>0 else 0.0\n",
    "    fpr_point = fp/(fp+tn) if (fp+tn)>0 else 0.0\n",
    "    prec_point = tp/(tp+fp) if (tp+fp)>0 else 0.0\n",
    "\n",
    "    fpr, tpr, _ = roc_curve(targets, probs)\n",
    "    plt.figure(); plt.plot(fpr, tpr, label=f\"AUC={auc:.3f}\")\n",
    "    plt.scatter([fpr_point],[tpr_point], s=60, label=f\"thr={thr:.3f}, τ={tau_used:.2f}\")\n",
    "    plt.xlabel(\"FPR\"); plt.ylabel(\"TPR\"); plt.title(f\"ROC — {tag}\"); plt.grid(True); plt.legend(); plt.show()\n",
    "\n",
    "    rec, prec, _ = precision_recall_curve(targets, probs)\n",
    "    plt.figure(); plt.plot(rec, prec, label=f\"AP={ap:.3f}\")\n",
    "    plt.scatter([tpr_point],[prec_point], s=60, label=f\"thr={thr:.3f}\")\n",
    "    plt.xlabel(\"Recall\"); plt.ylabel(\"Precision\"); plt.title(f\"Precision–Recall — {tag}\"); plt.grid(True); plt.legend(); plt.show()\n",
    "\n",
    "    cm = confusion_matrix(targets, preds, labels=[0,1])\n",
    "    cm_norm = cm.astype(float)/cm.sum(axis=1, keepdims=True).clip(min=1)\n",
    "\n",
    "    fig, axes = plt.subplots(1,2, figsize=(8,3.8))\n",
    "    ax=axes[0]; im=ax.imshow(cm); ax.set_title(f\"Confusion (raw) @ thr={thr:.3f}, τ={tau_used:.2f}\")\n",
    "    ax.set_xticks([0,1]); ax.set_yticks([0,1]); ax.set_xticklabels(['Negative','Positive']); ax.set_yticklabels(['Negative','Positive'])\n",
    "    plt.setp(ax.get_xticklabels(), rotation=45, ha=\"right\")\n",
    "    for i in range(cm.shape[0]):\n",
    "        for j in range(cm.shape[1]): ax.text(j,i,int(cm[i,j]),ha=\"center\",va=\"center\")\n",
    "    plt.colorbar(im, ax=ax, fraction=0.046, pad=0.04)\n",
    "\n",
    "    ax=axes[1]; im2=ax.imshow(cm_norm, vmin=0, vmax=1); ax.set_title(\"row-normalized\")\n",
    "    ax.set_xticks([0,1]); ax.set_yticks([0,1]); ax.set_xticklabels(['Negative','Positive']); ax.set_yticklabels(['Negative','Positive'])\n",
    "    plt.setp(ax.get_xticklabels(), rotation=45, ha=\"right\")\n",
    "    for i in range(cm_norm.shape[0]):\n",
    "        for j in range(cm_norm.shape[1]): ax.text(j,i,f\"{cm_norm[i,j]*100:.1f}%\",ha=\"center\",va=\"center\")\n",
    "    plt.colorbar(im2, ax=ax, fraction=0.046, pad=0.04)\n",
    "    plt.tight_layout(); plt.show()\n",
    "\n",
    "plot_all(f\"TEST (MODE={MODE})\", ptest, ytest, best_f1[\"thr\"], tau_val)"
   ]
  }
 ],
 "metadata": {
  "kernelspec": {
   "display_name": "TFM",
   "language": "python",
   "name": "python3"
  },
  "language_info": {
   "codemirror_mode": {
    "name": "ipython",
    "version": 3
   },
   "file_extension": ".py",
   "mimetype": "text/x-python",
   "name": "python",
   "nbconvert_exporter": "python",
   "pygments_lexer": "ipython3",
   "version": "3.12.9"
  }
 },
 "nbformat": 4,
 "nbformat_minor": 5
}
